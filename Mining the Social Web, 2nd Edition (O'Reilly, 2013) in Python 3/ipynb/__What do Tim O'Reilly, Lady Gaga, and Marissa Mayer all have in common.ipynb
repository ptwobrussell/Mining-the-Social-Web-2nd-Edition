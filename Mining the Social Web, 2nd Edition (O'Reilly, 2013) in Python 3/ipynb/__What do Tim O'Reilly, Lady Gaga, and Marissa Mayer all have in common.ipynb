{
 "cells": [
  {
   "cell_type": "markdown",
   "metadata": {},
   "source": [
    "# What do Tim O'Reilly, Lady Gaga, and Marissa Mayer all have in common?"
   ]
  },
  {
   "cell_type": "markdown",
   "metadata": {},
   "source": [
    "This IPython Notebook provides a compilation of the sample code for <a href=\"http://miningthesocialweb.com/\">Mining the Social Web</a>'s multi-part series on exploring <a href=\"http://miningthesocialweb.com/category/twitter-influence/\">Twitter influence</a>. The code in this notebook harvests follower IDs and the corresponding account profiles for arbitrary accounts of interest along with some initial exercises to get you busy analyzing the data. We'll applly the same \"Aspire, Acquire, Analyze, Summarize\" data science framework that has been presented in previous posts as a guide through this notebook.\n",
    "\n",
    "For the educational purpose of investigating the intuition behind popularity (number of followers) as a measure of influence on Twitter with a concrete set of data, Tim O'Reilly and his followers provide the primary basis of this examination. Sample output from the analysis section of the notebook is left in place for easy review.\n",
    "\n",
    "In the spirit of <em><a href=\"http://www.amazon.com/Freakonomics-Rev-Ed-Riddles-Modern-ebook/dp/B002VL1CLW/?tag=oreonbl-20\">Freakonomics</a></em> (but mostly just for entertainment purposes), we'll also briefly juxtapose some of Tim O'Reilly's data with that of Lady Gaga to see what followers they have in common and even compute a Jaccard similarity score for them based on the followers that they have in common.\n",
    "\n",
    "But a Jaccard score all by itself is no fun at all, so Marissa Mayer's data will also make a brief guest appearance so that we can make a couple of additional comparisons. The selection of Marissa Mayer seemed interesting since she's a female technologist and thus has something in common with both Tim O'Reilly and Lady Gaga (as arbitrary as that may seem.)"
   ]
  },
  {
   "cell_type": "markdown",
   "metadata": {},
   "source": [
    "# Abstract"
   ]
  },
  {
   "cell_type": "markdown",
   "metadata": {},
   "source": [
    "Some of the key findings that you'll learn how to reproduce and explore include:\n",
    "\n",
    "* Approximately 50% of Tim O'Reilly's ~1.7 million followers are \"suspect\" in the sense that they may be inactive accounts or spam bots. Only about 15% of Marissa Mayer's followers are suspect according to the same criteria.\n",
    "    * Although purely speculative, this difference *might* be explainable by a massive wave of spam-bots attacking popular users back in 2009 when Twitter experiences unprecedented user growth.\n",
    "* Approximately 25% of Tim O'Reilly's \"non-suspect\" followers also follow Lady Gaga.\n",
    "* Lady Gaga has a higher Jaccard similarity to Tim O'Reilly than to Lady Gaga. (However, Tim O'Reilly and Marissa Mayer have a *much* higher Jaccard similarity to one another than either one of them have to Lady Gaga.)\n",
    "* The total number of followers that Tim O'Reilly, Marissa Mayer, and Lady Gaga have in common is about 25k. This figure represents about 5% of Marissa Mayer's total followers.\n",
    "\n",
    "This remainder of this IPython notebook provides the source code and fodder to reproduce these results. Visit <a href=\"http://MiningTheSocialWeb.com\">Mining the Social Web</a> for <a href=\"http://wp.me/p3QiJd-4k\">the corresponding blog post</a> and related content."
   ]
  },
  {
   "cell_type": "markdown",
   "metadata": {},
   "source": [
    "# 1. Aspire"
   ]
  },
  {
   "cell_type": "markdown",
   "metadata": {},
   "source": [
    "Let's aspire to investigate a few questions as part of a data science experiment:\n",
    "\n",
    "* Is there a relationship between popularity and influence on Twitter?\n",
    "* How influenceable are a popular Twitter user's followers?\n",
    "* Do Tim O'Reilly, Lady Gaga, and Marissa Mayer have very many followers in common?\n",
    "* Between Tim O'Reilly, Lady Gaga, and Marissa Mayer, which pair of users has the highest Jaccard similarity based on followers?"
   ]
  },
  {
   "cell_type": "markdown",
   "metadata": {},
   "source": [
    "# 2. Acquire"
   ]
  },
  {
   "cell_type": "markdown",
   "metadata": {},
   "source": [
    "Having aspired to investigate some interesting queries, let's now acquire the data to perform this investigation."
   ]
  },
  {
   "cell_type": "markdown",
   "metadata": {},
   "source": [
    "## Data Collection Machinery"
   ]
  },
  {
   "cell_type": "markdown",
   "metadata": {},
   "source": [
    "We can collect the IDs for all of an account's followers by adapting the following recipes from the <a href=\"https://rawgithub.com/ptwobrussell/Mining-the-Social-Web-2nd-Edition/master/ipynb/html/Chapter%209%20-%20Twitter%20Cookbook.html\">Twitter Cookbook (Chapter 9)</a> notebook:\n",
    "\n",
    "* <a href=\"https://rawgithub.com/ptwobrussell/Mining-the-Social-Web-2nd-Edition/master/ipynb/html/Chapter%209%20-%20Twitter%20Cookbook.html#Example-1.-Accessing-Twitter's-API-for-development-purposes\">Example 9-1</a>. Accessing Twitter's API for development purposes (use as-is)\n",
    "* <a href=\"https://rawgithub.com/ptwobrussell/Mining-the-Social-Web-2nd-Edition/master/ipynb/html/Chapter%209%20-%20Twitter%20Cookbook.html#Example-7.-Saving-and-accessing-JSON-data-with-MongoDB\">Example 9-7</a>. Saving and Accessing JSON Data with MongoDB (requires minor adaptations)\n",
    "* <a href=\"https://rawgithub.com/ptwobrussell/Mining-the-Social-Web-2nd-Edition/master/ipynb/html/Chapter%209%20-%20Twitter%20Cookbook.html#Example-16.-Making-robust-Twitter-requests\">Example 9-16</a>. Making robust Twitter requests (use as-is)\n",
    "* <a href=\"https://rawgithub.com/ptwobrussell/Mining-the-Social-Web-2nd-Edition/master/ipynb/html/Chapter%209%20-%20Twitter%20Cookbook.html#Example-17.-Resolving-user-profile-information\">Example 9-17</a>. Resolving user profile information (requires minor adaptations)\n",
    "* <a href=\"https://rawgithub.com/ptwobrussell/Mining-the-Social-Web-2nd-Edition/master/ipynb/html/Chapter%209%20-%20Twitter%20Cookbook.html#Example-19.-Getting-all-friends-or-followers-for-a-user\">Example 9-19</a>. Getting all friends or followers for a user (requires minor adaptations)"
   ]
  },
  {
   "cell_type": "code",
   "execution_count": 1,
   "metadata": {},
   "outputs": [],
   "source": [
    "from functools import partial\n",
    "from sys import maxint\n",
    "import sys\n",
    "import time\n",
    "from urllib2 import URLError\n",
    "from httplib import BadStatusLine\n",
    "import json\n",
    "import twitter # pip install twitter\n",
    "import pymongo # pip install pymongo\n",
    "\n",
    "\n",
    "def oauth_login():\n",
    "    # XXX: Go to http://twitter.com/apps/new to create an app and get values\n",
    "    # for these credentials that you'll need to provide in place of these\n",
    "    # empty string values that are defined as placeholders.\n",
    "    # See https://dev.twitter.com/docs/auth/oauth for more information \n",
    "    # on Twitter's OAuth implementation\n",
    "    \n",
    "    CONSUMER_KEY = ''\n",
    "    CONSUMER_SECRET = ''\n",
    "    OAUTH_TOKEN = ''\n",
    "    OAUTH_TOKEN_SECRET = ''\n",
    "        \n",
    "    auth = twitter.oauth.OAuth(OAUTH_TOKEN, OAUTH_TOKEN_SECRET,\n",
    "                               CONSUMER_KEY, CONSUMER_SECRET)\n",
    "    \n",
    "    twitter_api = twitter.Twitter(auth=auth)\n",
    "    return twitter_api\n",
    "\n",
    "def make_twitter_request(twitter_api_func, max_errors=10, *args, **kw): \n",
    "    \n",
    "    # A nested helper function that handles common HTTPErrors. Return an updated value \n",
    "    # for wait_period if the problem is a 500 level error. Block until the rate limit \n",
    "    # is reset if a rate limiting issue (429 error). Returns None for 401 and 404 errors\n",
    "    # which requires special handling by the caller.\n",
    "    def handle_twitter_http_error(e, wait_period=2, sleep_when_rate_limited=True):\n",
    "    \n",
    "        if wait_period > 3600: # Seconds\n",
    "            print >> sys.stderr, 'Too many retries. Quitting.'\n",
    "            raise e\n",
    "    \n",
    "        # See https://dev.twitter.com/docs/error-codes-responses for common codes\n",
    "    \n",
    "        if e.e.code == 401:\n",
    "            print >> sys.stderr, 'Encountered 401 Error (Not Authorized)'\n",
    "            return None\n",
    "        elif e.e.code == 404:\n",
    "            print >> sys.stderr, 'Encountered 404 Error (Not Found)'\n",
    "            return None\n",
    "        elif e.e.code == 429: \n",
    "            print >> sys.stderr, 'Encountered 429 Error (Rate Limit Exceeded)'\n",
    "            if sleep_when_rate_limited:\n",
    "                print >> sys.stderr, \"Sleeping for 15 minutes, and then I'll try again...ZzZ...\"\n",
    "                sys.stderr.flush()\n",
    "                time.sleep(60*15 + 5)\n",
    "                print >> sys.stderr, '...ZzZ...Awake now and trying again.'\n",
    "                return 2\n",
    "            else:\n",
    "                raise e # Allow user to handle the rate limiting issue however they'd like \n",
    "        elif e.e.code in (500, 502, 503, 504):\n",
    "            print >> sys.stderr, 'Encountered %i Error. Will retry in %i seconds' % (e.e.code,\n",
    "                    wait_period)\n",
    "            time.sleep(wait_period)\n",
    "            wait_period *= 1.5\n",
    "            return wait_period\n",
    "        else:\n",
    "            raise e\n",
    "\n",
    "    # End of nested helper function\n",
    "    \n",
    "    wait_period = 2 \n",
    "    error_count = 0 \n",
    "\n",
    "    while True:\n",
    "        try:\n",
    "            return twitter_api_func(*args, **kw)\n",
    "        except twitter.api.TwitterHTTPError, e:\n",
    "            error_count = 0 \n",
    "            wait_period = handle_twitter_http_error(e, wait_period)\n",
    "            if wait_period is None:\n",
    "                return\n",
    "        except URLError, e:\n",
    "            error_count += 1\n",
    "            print >> sys.stderr, \"URLError encountered. Continuing.\"\n",
    "            if error_count > max_errors:\n",
    "                print >> sys.stderr, \"Too many consecutive errors...bailing out.\"\n",
    "                raise\n",
    "        except BadStatusLine, e:\n",
    "            error_count += 1\n",
    "            print >> sys.stderr, \"BadStatusLine encountered. Continuing.\"\n",
    "            if error_count > max_errors:\n",
    "                print >> sys.stderr, \"Too many consecutive errors...bailing out.\"\n",
    "                raise\n",
    "                \n",
    "def store_friends_followers_ids(twitter_api, screen_name=None, user_id=None,\n",
    "                              friends_limit=maxint, followers_limit=maxint, database=None):\n",
    "    \n",
    "    # Must have either screen_name or user_id (logical xor)\n",
    "    assert (screen_name != None) != (user_id != None), \"Must have screen_name or user_id, but not both\"\n",
    "    \n",
    "    # See https://dev.twitter.com/docs/api/1.1/get/friends/ids  and\n",
    "    # See https://dev.twitter.com/docs/api/1.1/get/followers/ids for details on API parameters\n",
    "    \n",
    "    get_friends_ids = partial(make_twitter_request, twitter_api.friends.ids, count=5000)\n",
    "    get_followers_ids = partial(make_twitter_request, twitter_api.followers.ids, count=5000)\n",
    "    \n",
    "    for twitter_api_func, limit, label in [\n",
    "                                 [get_friends_ids, friends_limit, \"friends\"], \n",
    "                                 [get_followers_ids, followers_limit, \"followers\"]\n",
    "                             ]:\n",
    "        \n",
    "        if limit == 0: continue\n",
    "        \n",
    "        total_ids = 0\n",
    "        cursor = -1\n",
    "        while cursor != 0:\n",
    "        \n",
    "            # Use make_twitter_request via the partially bound callable...\n",
    "            if screen_name: \n",
    "                response = twitter_api_func(screen_name=screen_name, cursor=cursor)\n",
    "            else: # user_id\n",
    "                response = twitter_api_func(user_id=user_id, cursor=cursor)\n",
    "\n",
    "            if response is not None:\n",
    "                ids = response['ids']\n",
    "                total_ids += len(ids)\n",
    "                save_to_mongo({\"ids\" : [_id for _id in ids ]}, database, label + \"_ids\")\n",
    "                cursor = response['next_cursor']\n",
    "        \n",
    "            print >> sys.stderr, 'Fetched {0} total {1} ids for {2}'.format(total_ids, label, (user_id or screen_name))\n",
    "            sys.stderr.flush()\n",
    "        \n",
    "            # Consider storing the ids to disk during each iteration to provide an \n",
    "            # an additional layer of protection from exceptional circumstances\n",
    "        \n",
    "            if len(ids) >= limit or response is None:\n",
    "                break\n",
    "                print >> sys.stderr, 'Last cursor', cursor\n",
    "                print >> sts.stderr, 'Last response', response\n",
    "\n",
    "def save_to_mongo(data, mongo_db, mongo_db_coll, auth=None, **mongo_conn_kw):\n",
    "    \n",
    "    # Connects to the MongoDB server running on \n",
    "    # localhost:27017 by default\n",
    "    \n",
    "    client = pymongo.MongoClient(**mongo_conn_kw)\n",
    "    \n",
    "    # Get a reference to a particular database\n",
    "    \n",
    "    db = client[mongo_db]\n",
    "    if auth:\n",
    "        db.authenticate(auth[0], auth[1])\n",
    "        \n",
    "    # Reference a particular collection on the database\n",
    "    \n",
    "    coll = db[mongo_db_coll]\n",
    "    \n",
    "    # Perform a bulk insert and  return the ids\n",
    "    \n",
    "    return coll.insert(data)\n",
    "\n",
    "def load_from_mongo(mongo_db, mongo_db_coll, return_cursor=False,\n",
    "                    criteria=None, projection=None, auth=None, **mongo_conn_kw):\n",
    "    \n",
    "    # Optionally, use criteria and projection to limit the data that is \n",
    "    # returned as documented in \n",
    "    # http://docs.mongodb.org/manual/reference/method/db.collection.find/\n",
    "    \n",
    "    # Consider leveraging MongoDB's aggregations framework for more \n",
    "    # sophisticated queries.\n",
    "    \n",
    "    client = pymongo.MongoClient(**mongo_conn_kw)\n",
    "    db = client[mongo_db]\n",
    "    \n",
    "    if auth:\n",
    "        db.authenticate(auth[0], auth[1])\n",
    "\n",
    "    coll = db[mongo_db_coll]\n",
    "    \n",
    "    if criteria is None:\n",
    "        criteria = {}\n",
    "    \n",
    "    if projection is None:\n",
    "        cursor = coll.find(criteria)\n",
    "    else:\n",
    "        cursor = coll.find(criteria, projection)\n",
    "\n",
    "    # Returning a cursor is recommended for large amounts of data\n",
    "    \n",
    "    if return_cursor:\n",
    "        return cursor\n",
    "    else:\n",
    "        return [ item for item in cursor ]\n",
    "    \n",
    "def store_user_info(twitter_api, screen_names=None, user_ids=None, database=None):\n",
    "   \n",
    "    # Must have either screen_name or user_id (logical xor)\n",
    "    assert (screen_names != None) != (user_ids != None), \"Must have screen_names or user_ids, but not both\"\n",
    "    \n",
    "    items = screen_names or user_ids\n",
    "    \n",
    "    while len(items) > 0:\n",
    "        if len(items)/100*100 % 1000 == 0:\n",
    "            print >> sys.stderr, len(items), \"remaining\"\n",
    "            \n",
    "        # Process 100 items at a time per the API specifications for /users/lookup. See\n",
    "        # https://dev.twitter.com/docs/api/1.1/get/users/lookup for details\n",
    "        \n",
    "        items_str = ','.join([str(item) for item in items[:100]])\n",
    "        items = items[100:]\n",
    "\n",
    "        if screen_names:\n",
    "            response = make_twitter_request(twitter_api.users.lookup, screen_name=items_str)\n",
    "        else: # user_ids\n",
    "            response = make_twitter_request(twitter_api.users.lookup, user_id=items_str)\n",
    "    \n",
    "        for profile in response:            \n",
    "            save_to_mongo(profile, database, 'followers_profiles')\n",
    "            \n",
    "# Go ahead and instantiate an instance of the Twitter API for common use\n",
    "# throughout the rest of this notebook.\n",
    "\n",
    "twitter_api = oauth_login()"
   ]
  },
  {
   "cell_type": "markdown",
   "metadata": {},
   "source": [
    "## Harvesting Followers for Tim O'Reilly"
   ]
  },
  {
   "cell_type": "markdown",
   "metadata": {},
   "source": [
    "Recall from previous posts in this series that harvesting followers is a two-step process. First, harvest the IDs, and then use the IDs to procure the corresponding profiles. \n",
    "\n",
    "First, let's get the IDs..."
   ]
  },
  {
   "cell_type": "code",
   "execution_count": null,
   "metadata": {
    "collapsed": true
   },
   "outputs": [],
   "source": [
    "# Harvest the follower IDS. Note that this process takes a bit of time since\n",
    "# you are limited to harvesting 75k IDs per 15 minute window.\n",
    "# \n",
    "# Some example accounts that we'll look at later in this notebook:\n",
    "#\n",
    "# Tim O'Reilly: ~1.7M followers (~6 hours)\n",
    "# Marissa Mayer: ~460k followers (~1.5 hours)\n",
    "# Lady Gaga: ~40M followers (~5.5 days)\n",
    "#\n",
    "# All in all, it takes a little over a week to harvest all of these IDs.\n",
    "\n",
    "\n",
    "# Define a simple wrapper that accepts a list of screen names for convenience\n",
    "# and reusability later.\n",
    "\n",
    "def harvest_followers_ids(screen_names=[]):\n",
    "    for screen_name in screen_names:\n",
    "        store_friends_followers_ids(twitter_api, screen_name=screen_name, \n",
    "                                    friends_limit=0, database=screen_name)\n",
    "\n",
    "        \n",
    "harvest_followers_ids(screen_names=[ 'timoreilly' ])\n",
    "\n",
    "print \"Done\""
   ]
  },
  {
   "cell_type": "markdown",
   "metadata": {},
   "source": [
    "And now, let's get the profiles..."
   ]
  },
  {
   "cell_type": "code",
   "execution_count": null,
   "metadata": {},
   "outputs": [],
   "source": [
    "# Iterate over the IDs for each follower of Tim O'Reilly and\n",
    "# lookup the profile. This process also takes some time since you are \n",
    "# limited to 18k profiles per 15 minute rate limit window. Resolving \n",
    "# all of these profiles takes a little over a day.\n",
    "#\n",
    "# Note that we could always opt to draw a random sample for a highly popular \n",
    "# account's followers IDs for a statistical analysis. However, be advised that\n",
    "# for the sample to be truly random, you do probabably need to first pull down the\n",
    "# totality of the follower IDs and then draw from that collection. Simply harvesting\n",
    "# the first N followers returned by the API and using that as a sample may not be \n",
    "# sufficient, since Twitter currently returns followers in the order in which the\n",
    "# follow occurred (though this is subject to change without notice.)\n",
    "#\n",
    "# For example, a 95% confidence interval with a 1% margin of error requires just\n",
    "# under 10k items be drawn for the random sample. A 99% confidence interval with \n",
    "# a 1% margin of error requires just under 17k items be drawn for the random sample.\n",
    "\n",
    "\n",
    "# Define another convenience wrapper and assume that you've already\n",
    "# harvested the follower IDs for the account in question\n",
    "\n",
    "def harvest_followers_profiles(screen_names=[]): \n",
    "    for screen_name in screen_names:\n",
    "        followers_ids = load_from_mongo(screen_name, 'followers_ids')\n",
    "        \n",
    "        # Flattening the IDs into memory requires a generous heap space. An\n",
    "        # m1.xlarge AWS node (15GB of memory) should be more than sufficient\n",
    "        # and spot prices are typically around $0.05/hr\n",
    "        \n",
    "        all_ids = [ _id for ids_batch in followers_ids for _id in ids_batch['ids'] ]\n",
    "        \n",
    "        store_user_info(twitter_api, user_ids=all_ids, database=screen_name)\n",
    "\n",
    "        \n",
    "harvest_followers_profiles(screen_names=[ 'timoreilly' ])\n",
    "\n",
    "print \"Done.\""
   ]
  },
  {
   "cell_type": "markdown",
   "metadata": {},
   "source": [
    "That all the data that we need to narrow in on Tim O'Reilly's account and investigate the relationship between popularity on Twitter and influence. (The functions from this section are trivially reusable for harvesting Lady Gaga's and Marissa Mayer's data.)"
   ]
  },
  {
   "cell_type": "markdown",
   "metadata": {},
   "source": [
    "# 3. Analyze"
   ]
  },
  {
   "cell_type": "markdown",
   "metadata": {},
   "source": [
    "Now that we have the data, let the analysis begin!"
   ]
  },
  {
   "cell_type": "markdown",
   "metadata": {},
   "source": [
    "## Taking a closer look at Tim O'Reilly's followers"
   ]
  },
  {
   "cell_type": "markdown",
   "metadata": {},
   "source": [
    "This section is a template for how you could take a closer look at an account's followers. The possibilities are endless, and we'll just work through a few examples to gain better intuition about Twitter popularity as an indicator of influence. In other words, how much influence can be exerted on these followers? Are all ~1.7M of his followers likely to be influenceable. It may be helpful to review the initial discussion  on <a href=\"http://miningthesocialweb.com/2013/09/19/computing-twitter-influence-part-1/\">forging a base metric for influence</a> that started this series if you don't recall that discussion."
   ]
  },
  {
   "cell_type": "code",
   "execution_count": 2,
   "metadata": {},
   "outputs": [],
   "source": [
    "# Compute a list containing the number of followers for each of Tim O'Reilly's own followers.\n",
    "# Sort it for convenience of slicing and plotting.\n",
    "\n",
    "timoreilly_followers_counts = sorted([f['followers_count'] \n",
    "                                      for f in load_from_mongo('timoreilly', 'followers_profiles', \n",
    "                                                         projection={'followers_count' : 1, '_id' : 0})])"
   ]
  },
  {
   "cell_type": "code",
   "execution_count": 3,
   "metadata": {},
   "outputs": [
    {
     "data": {
      "text/plain": [
       "<matplotlib.text.Text at 0x30b26d0>"
      ]
     },
     "execution_count": 3,
     "metadata": {},
     "output_type": "execute_result"
    },
    {
     "data": {
      "image/png": "[encoded data removed]",
      "text/plain": [
       "<matplotlib.figure.Figure at 0x32384d0>"
      ]
     },
     "metadata": {},
     "output_type": "display_data"
    }
   ],
   "source": [
    "# Now, let's plot the list to gain some initial intuition about the curve.\n",
    "\n",
    "plt.loglog(timoreilly_followers_counts)\n",
    "plt.ylabel(\"Num Followers\")\n",
    "plt.xlabel(\"Follower Rank\")"
   ]
  },
  {
   "cell_type": "markdown",
   "metadata": {},
   "source": [
    "It appears that the curve resembles that of a \"power law\" distribution. In other words, there are some extreme outliers that are wildly popular, but most of the area \"under the curve\" lies within the \"long tail\", though it's a bit hard to see in this plot."
   ]
  },
  {
   "cell_type": "code",
   "execution_count": 4,
   "metadata": {},
   "outputs": [
    {
     "data": {
      "text/plain": [
       "<matplotlib.text.Text at 0x3081b10>"
      ]
     },
     "execution_count": 4,
     "metadata": {},
     "output_type": "execute_result"
    },
    {
     "data": {
      "image/png": "[encoded data removed]",
      "text/plain": [
       "<matplotlib.figure.Figure at 0x1f2d0550>"
      ]
     },
     "metadata": {},
     "output_type": "display_data"
    }
   ],
   "source": [
    "# Now knowing that the curve resembles that of a \"power law\" and that\n",
    "# most of the substance is in the \"long tail\", let's zoom in on some the tail \n",
    "# with a histogram.\n",
    "\n",
    "# The resolution for a histogram displaying the full data set would be less than \n",
    "# useful to look at since the x-axis would stretch all the way out to accomodate \n",
    "# the outliers. (Try it.)\n",
    "# plt.hist(timoreilly_followers_counts)\n",
    "\n",
    "# So, hack the display a bit so that we only visualize 99% of the data and avoid the\n",
    "# outliers on the upper extreme. It's easy enough to produce a separate plot of them\n",
    "\n",
    "bins = [0,5,10,100,200,300,400,500,1000,4000]\n",
    "plt.hist(timoreilly_followers_counts[:len(timoreilly_followers_counts)/100*99], bins=bins)\n",
    "\n",
    "\n",
    "plt.title(\"Tim O'Reilly Followers\")\n",
    "plt.xlabel('Bins (range of popularity for Tim\\'s followers)')\n",
    "plt.ylabel('Number of followers in bin')"
   ]
  },
  {
   "cell_type": "markdown",
   "metadata": {},
   "source": [
    "Hmm, there are a lot of followers that don't have many followers at all as we can see from the left side of the histogram. It appears that a highly disporportionate number of Tim O'Reilly's followers have fewer than 10 followers of their own. These *could* be legitimate accounts (active and not a spam-bot), but let's tentatively consider these followers 'suspect' and take a closer look at them."
   ]
  },
  {
   "cell_type": "code",
   "execution_count": 5,
   "metadata": {},
   "outputs": [
    {
     "name": "stdout",
     "output_type": "stream",
     "text": [
      "Tim O'Reilly has 877457 'suspect' followers for MIN=10\n"
     ]
    }
   ],
   "source": [
    "# Let's start with a very base assumption for the time being: \n",
    "# any follower with less than 10 followers of their own is \"suspect\" in the\n",
    "# sense that this follower may be an inactive account, spambot, or abandoned account.\n",
    "# Regardless, it probably offers no meaningful influence. (Although this assumption \n",
    "# may be a bit naive, it seems a reasonable starting point for now.)\n",
    "\n",
    "MIN = 10\n",
    "timoreilly_suspect_followers = [f \n",
    "                                for f in load_from_mongo('timoreilly', 'followers_profiles', \n",
    "                                                          projection={'followers_count' : 1, 'id' : 1, '_id' : 0})\n",
    "                                if f['followers_count'] < MIN]\n",
    "\n",
    "print \"Tim O'Reilly has {0} 'suspect' followers for MIN={1}\".format(len(timoreilly_suspect_followers), MIN)"
   ]
  },
  {
   "cell_type": "markdown",
   "metadata": {},
   "source": [
    "Whoa! Approximately 50% of Tim O'Reilly's followers are suspect. Let's narrow in on them some more by plotting a histogram to zoom in a bit more on the data."
   ]
  },
  {
   "cell_type": "code",
   "execution_count": 6,
   "metadata": {},
   "outputs": [
    {
     "data": {
      "text/plain": [
       "<matplotlib.text.Text at 0x26f3d7d0>"
      ]
     },
     "execution_count": 6,
     "metadata": {},
     "output_type": "execute_result"
    },
    {
     "data": {
      "image/png": "[encoded data removed]",
      "text/plain": [
       "<matplotlib.figure.Figure at 0x26f2ae50>"
      ]
     },
     "metadata": {},
     "output_type": "display_data"
    }
   ],
   "source": [
    "# What does a plot of these 'suspect' followers look like?\n",
    "\n",
    "timoreilly_suspect_followers_counts = sorted([f['followers_count'] \n",
    "                                              for f in timoreilly_suspect_followers], reverse=True)\n",
    "\n",
    "plt.hist(timoreilly_suspect_followers_counts)\n",
    "plt.title(\"Tim O'Reilly Suspect Followers\")\n",
    "plt.xlabel('Bins (range of followers)')\n",
    "plt.ylabel('Number of followers in each bin')"
   ]
  },
  {
   "cell_type": "markdown",
   "metadata": {},
   "source": [
    "Interesting. So *most* of the suspect followers appear to have 5 or fewer followers, so *MIN=5* might be a threshold to keep in mind. Let's gain a little more insight by calculating accumulation of these suspect followers for follower counts in the range of 1 to 5."
   ]
  },
  {
   "cell_type": "code",
   "execution_count": 7,
   "metadata": {},
   "outputs": [
    {
     "name": "stdout",
     "output_type": "stream",
     "text": [
      "117370 of Tim O'Reilly's followers have 0 followers\n",
      "262417 of Tim O'Reilly's followers have 1 follower\n",
      "412973 of Tim O'Reilly's followers have less than 3 followers\n",
      "542748 of Tim O'Reilly's followers have less than 4 followers\n",
      "643068 of Tim O'Reilly's followers have less than 5 followers\n"
     ]
    }
   ],
   "source": [
    "# A little more analysis of how the distribution breaks down\n",
    "print \"{0} of Tim O'Reilly's followers have 0 followers\"\\\n",
    ".format(sum([1 for c in timoreilly_suspect_followers_counts if c < 1]))\n",
    "\n",
    "print \"{0} of Tim O'Reilly's followers have 1 follower\"\\\n",
    ".format(sum([1 for c in timoreilly_suspect_followers_counts if c <= 1]))\n",
    "\n",
    "print \"{0} of Tim O'Reilly's followers have less than 3 followers\"\\\n",
    ".format(sum([1 for c in timoreilly_suspect_followers_counts if c < 3]))\n",
    "\n",
    "print \"{0} of Tim O'Reilly's followers have less than 4 followers\"\\\n",
    ".format(sum([1 for c in timoreilly_suspect_followers_counts if c < 4]))\n",
    "\n",
    "print \"{0} of Tim O'Reilly's followers have less than 5 followers\"\\\n",
    ".format(sum([1 for c in timoreilly_suspect_followers_counts if c < 5]))"
   ]
  },
  {
   "cell_type": "markdown",
   "metadata": {},
   "source": [
    "Bottom line: given a threshold of *MIN=5*, about 38% of Tim O'Reilly's followers may not really be influenceable followers at all. We'd need to do some more analysis to get a better idea of what other features we could inspect to determine the likelihood of these followers being spam-bots. I have completed some non-trivial analysis that will be presented \"soon\", but this is a good place for you to jump in. Data mining is not a spectator sport!\n",
    "\n",
    "Some recommended exercises for further analysis:\n",
    "\n",
    "* When were these suspect accounts created? (What you'll discover is that the majority of them were all created in the year 2009. Why might this be? Twitter experienced <a href=\"http://techcrunch.com/2009/10/05/twitter-data-analysis-an-investors-perspective-2/\">unprecedented growth</a> in early 2009. Perhaps there was an attach of spam bots that it was not yet well equipped to handle?)\n",
    "* When did these suspect accounts last tweet? Is there a correlation to account creation time?\n",
    "* How many of these accounts have changed profile images to something other than the default profile image?\n",
    "* Who are the most popular accounts that follow Tim O'Reilly and how influenceable are they likely to be? (One of these followers is high among the most popular users in the world -- almost as popular as Lady Gaga.)\n",
    "\n",
    "We already have all of the data on hand to answer these questions and much more from the account profiles. The answers to these questions may surprise you.\n",
    "\n",
    "A more advanced exercise:\n",
    "\n",
    "* Try developing a heuristic (or better yet, using some supervised machine learning to build a classifier) to determine whether or not an account is likely to be spam bot as opposed just being an inactive account"
   ]
  },
  {
   "cell_type": "markdown",
   "metadata": {},
   "source": [
    "## What do Tim O'Reilly and Lady Gaga have in common?"
   ]
  },
  {
   "cell_type": "markdown",
   "metadata": {},
   "source": [
    "You can trivially reuse the previously defined havesting functions to pull account data for Lady Gaga's account or any other account. Let's assume that you've done that already. It takes just under a week to harvest all of her follower IDs, which is all that we really need since we already have all of the full profiles for Tim O'Reilly's followers. We can compute many interesting things without the full profiles for the 40M+ followers, and draw random samples from the full population of follower IDs for testing hypotheses that involve concrete account data.\n",
    "\n",
    "In this section, we'll compute the followers that they have in common as well as the Jaccard similarity score. (Note that computing the common followers is just a set intersection and is not normalized whereas Jaccard similarity normalizes by introducing a denominator that is the union of the two sets.)"
   ]
  },
  {
   "cell_type": "markdown",
   "metadata": {},
   "source": [
    "### Computing Tim O'Reilly and Lady Gaga's Common Followers (Set Intersection)"
   ]
  },
  {
   "cell_type": "markdown",
   "metadata": {},
   "source": [
    "Calculating common followers between two or more accounts is as simple as applying a set intersection operation."
   ]
  },
  {
   "cell_type": "code",
   "execution_count": 8,
   "metadata": {},
   "outputs": [
    {
     "name": "stdout",
     "output_type": "stream",
     "text": [
      "Tim O'Reilly and Lady Gaga have 261450 followers in common.\n"
     ]
    }
   ],
   "source": [
    "# Create sets of ids for each account of interest by flattening out the lists for each\n",
    "# request that was stored in MongoDB. (The maximum document size in MongoDB is ~16MB so\n",
    "# there would have been little to gain by trying to store them in a flatter structure \n",
    "# from the outset since multiple documents would have inevitably been required.)\n",
    "\n",
    "timoreilly_followers_ids = set([fid\n",
    "                 for ids in load_from_mongo('timoreilly', 'followers_ids', projection={'ids' : 1})\n",
    "                     for fid in ids['ids']\n",
    "                 ])\n",
    "\n",
    "ladygaga_followers_ids = set([fid\n",
    "                 for ids in load_from_mongo('ladygaga', 'followers_ids', projection={'ids' : 1})\n",
    "                     for fid in ids['ids']\n",
    "                 ])\n",
    "\n",
    "# Now, calculate the number of followers in common between each person of interest\n",
    "# by using set intersections.\n",
    "\n",
    "timoreilly_ladygaga_common_followers_ids = timoreilly_followers_ids & ladygaga_followers_ids\n",
    "\n",
    "print \"Tim O'Reilly and Lady Gaga have {0} followers in common.\"\\\n",
    ".format(len(timoreilly_ladygaga_common_followers_ids))"
   ]
  },
  {
   "cell_type": "markdown",
   "metadata": {},
   "source": [
    "Interesting. It seems like more than 250k followers is a non-trivial number of followers to have in common. Let's investigate how many of the common followers with Lady Gaga are from Tim O'Reilly's suspect set of followers."
   ]
  },
  {
   "cell_type": "markdown",
   "metadata": {},
   "source": [
    "### Do suspect followers dominate Tim O'Reilly's set of followers in common with Lady Gaga?"
   ]
  },
  {
   "cell_type": "code",
   "execution_count": 9,
   "metadata": {},
   "outputs": [
    {
     "name": "stdout",
     "output_type": "stream",
     "text": [
      "38575 of Tim O'Reilly's 'suspect' followers are from the set that's in common with Lady Gaga's followers\n"
     ]
    }
   ],
   "source": [
    "# So, how many of Tim O'Reilly's suspect followers are in common with\n",
    "# Lady Gaga? It would be helpful to know if the followers that they have in common\n",
    "# are or aren't domainted by the suspect followers.\n",
    "\n",
    "# For convenience, let's carve out just the IDs for easy setwise comparison\n",
    "timoreilly_suspect_followers_ids = set([f['id'] for f in timoreilly_suspect_followers])\n",
    "\n",
    "print \"{0} of Tim O'Reilly's 'suspect' followers are from the set that's in common with Lady Gaga's followers\"\\\n",
    ".format(len(timoreilly_suspect_followers_ids & timoreilly_ladygaga_common_followers_ids))"
   ]
  },
  {
   "cell_type": "markdown",
   "metadata": {},
   "source": [
    "It would appear that the set of common followers is not dominated by the suspect followers, though there are certainly some. Roughly 15% of the common followers are from the suspect set, leaving 85% (~225k) outside of the suspect category."
   ]
  },
  {
   "cell_type": "markdown",
   "metadata": {},
   "source": [
    "## Jaccard Similarity"
   ]
  },
  {
   "cell_type": "markdown",
   "metadata": {},
   "source": [
    "The Jaccard similarity is perhaps a more useful similarity score to employ when comparing sets of things than just a setwise intersection. For our context, Jaccard similarity is defined as the number of followers in common between the accounts divided by the combined number of unique followers if you were to merge the followers for each of those accounts. The effect here is that you are dividing the number of followers in common by a normalization term. A normalization term is appropriate, especially in this circumstance, because the cardinality of each set of followers is so different.\n",
    "\n",
    "Computing the Jaccard similarity between any two sets isn't very helpful unless you have some other reference points for comparison, so let's introduce another Twitter account that has something in common with both Tim O'Reilly and Lady Gaga. Marissa Mayer would be an interesting choice since she's a \"technology celebrity\" like Tim O'Reilly but also a female. (Admittedly that's a contrived explanation, but the original juxtaposition isn't any less contrived, so let's go with it and see what happens.)\n",
    "\n",
    "Recall that you can harvest all of Marissa Mayer's followers and the corresponding account profiles per the functions previously introduced and hack on the data to produce the very same working variables that we've been working with so far (and then some.)"
   ]
  },
  {
   "cell_type": "code",
   "execution_count": 10,
   "metadata": {},
   "outputs": [
    {
     "name": "stdout",
     "output_type": "stream",
     "text": [
      "Tim O'Reilly and Lady Gaga's Jaccard Index: 0.0062353871157\n",
      "Marissa Mayer and Lady Gaga's Jaccard Index: 0.00202385195072\n",
      "Tim O'Reilly and Marissa Mayer's Jaccard Index 0.0492571582527\n"
     ]
    }
   ],
   "source": [
    "# There are non-trivial numbers of followers in common, but computing the set\n",
    "# intersection doesn't take into account the size of any given set, so let's\n",
    "# calculate the Jaccard similarity score, which provides a sort of\n",
    "# normalization. See http://en.wikipedia.org/wiki/Jaccard_index for details.\n",
    "# In short, it's a similarity measurement. The higher the score, the more\n",
    "# similar two sets are in comparison to two other sets.\n",
    "\n",
    "def jaccard(x,y): return 1.0*len(x & y) / len(x | y)\n",
    "\n",
    "timoreilly_ladygaga_jaccard = jaccard(timoreilly_followers_ids, ladygaga_followers_ids)\n",
    "print \"Tim O'Reilly and Lady Gaga's Jaccard Index: {0}\".format(timoreilly_ladygaga_jaccard)\n",
    "\n",
    "# Need to define this variable, assuming you've pulled down the data for this account\n",
    "\n",
    "marissamayer_followers_ids = set([fid\n",
    "                 for ids in load_from_mongo('marissamayer', 'followers_ids', projection={'ids' : 1})\n",
    "                     for fid in ids['ids']\n",
    "                 ])\n",
    "\n",
    "marissamayer_ladygaga_jaccard = jaccard(marissamayer_followers_ids, ladygaga_followers_ids)\n",
    "print \"Marissa Mayer and Lady Gaga's Jaccard Index: {0}\".format(marissamayer_ladygaga_jaccard)\n",
    "\n",
    "timoreilly_marissamayer_jaccard = jaccard(timoreilly_followers_ids, marissamayer_followers_ids)\n",
    "print \"Tim O'Reilly and Marissa Mayer's Jaccard Index {0}\".format(timoreilly_marissamayer_jaccard)"
   ]
  },
  {
   "cell_type": "markdown",
   "metadata": {},
   "source": [
    "It's not that surprising that Tim O'Reilly and Marissa Mayer have a much higher similarity score to one another than either of them do to Lady Gaga, is it? Given that their statuses as \"celebrity technologists\" or \"business leaders\" (amongst other things) are going to drive more interest than a basic variable like gender, the results are as we'd probably have expected them to be.\n",
    "\n",
    "That said, how do we account for the (slightly) higher similarity score between Tim O'Reilly and Lady Gaga as compared to Lady Gaga and Marissa Mayer? One thought is that Tim O'Reilly's base of followers is substantially larger than Marissa Mayer's so the sheer numbers are probably the deciding factor.\n",
    "\n",
    "Let's re-run the numbers after adjusting for suspect followers to see if anything changes. (Although we aren't adjusting Lady Gaga's set of followers IDs by subtracting out the suspect followers, this should probably be fine for relative comparisons since it's a constant factor for each of the calculations.)"
   ]
  },
  {
   "cell_type": "code",
   "execution_count": 21,
   "metadata": {},
   "outputs": [
    {
     "name": "stdout",
     "output_type": "stream",
     "text": [
      "Tim O'Reilly and Lady Gaga's Jaccard Index adjusted for suspect followers: 0.00542391691954\n",
      "Marissa Mayer and Lady Gaga's Jaccard Index: 0.00177032283699\n",
      "Tim O'Reilly and Marissa Mayer's Jaccard Index 0.0825309743004\n"
     ]
    }
   ],
   "source": [
    "timoreilly_followers_ids_not_suspect = timoreilly_followers_ids - timoreilly_suspect_followers_ids\n",
    "\n",
    "timoreilly_ladygaga_jaccard_not_suspect = jaccard(timoreilly_followers_ids_not_suspect, ladygaga_followers_ids)\n",
    "print \"Tim O'Reilly and Lady Gaga's Jaccard Index adjusted for suspect followers: {0}\"\\\n",
    ".format(timoreilly_ladygaga_jaccard_not_suspect)\n",
    "\n",
    "# Need to define this variable, assuming you've pulled down the data for this account\n",
    "\n",
    "marissamayer_followers_ids = set([fid\n",
    "                 for ids in load_from_mongo('marissamayer', 'followers_ids', projection={'ids' : 1})\n",
    "                     for fid in ids['ids']\n",
    "                 ])\n",
    "\n",
    "marissamayer_followers_ids_not_suspect = marissamayer_followers_ids - marissamayer_suspect_followers_ids\n",
    "\n",
    "marissamayer_ladygaga_jaccard_not_suspect = jaccard(marissamayer_followers_ids_not_suspect, ladygaga_followers_ids)\n",
    "print \"Marissa Mayer and Lady Gaga's Jaccard Index adjusted for suspect followers: {0}\"\\\n",
    ".format(marissamayer_ladygaga_jaccard_not_suspect)\n",
    "\n",
    "timoreilly_marissamayer_jaccard_not_suspect = jaccard(timoreilly_followers_ids_not_suspect, marissamayer_followers_ids)\n",
    "print \"Tim O'Reilly and Marissa Mayer's Jaccard Index adjusted for suspect followers {0}\"\\\n",
    ".format(timoreilly_marissamayer_jaccard_not_suspect)"
   ]
  },
  {
   "cell_type": "markdown",
   "metadata": {},
   "source": [
    "It would appear that the relative comparisons don't change if adjusting for suspect followers. Tim O'Reilly and Lady Gaga are more similar based upon their followers than are Lady Gaga and Marissa Mayer."
   ]
  },
  {
   "cell_type": "markdown",
   "metadata": {},
   "source": [
    "## What do Tim O'Reilly, Lady Gaga, and Marissa Mayer all have in common?"
   ]
  },
  {
   "cell_type": "markdown",
   "metadata": {},
   "source": [
    "Given the previous findings, let's now return to the original questions and compute the set of followers that Tim O'Reilly, Lady Gaga, and Marissa Mayer all have in common by applying the set intersection operator."
   ]
  },
  {
   "cell_type": "code",
   "execution_count": 32,
   "metadata": {},
   "outputs": [
    {
     "name": "stdout",
     "output_type": "stream",
     "text": [
      "Tim O'Reilly, Lady Gaga, and Marissa Mayer have 26307 followers in common.\n"
     ]
    }
   ],
   "source": [
    "# Calculate the number of followers in common between each person of interest\n",
    "# by using set intersections.\n",
    "\n",
    "all_common_followers_ids = marissamayer_followers_ids & timoreilly_followers_ids & ladygaga_followers_ids\n",
    "\n",
    "print \"Tim O'Reilly, Lady Gaga, and Marissa Mayer have {0} followers in common.\"\\\n",
    ".format(len(all_common_followers_ids))"
   ]
  },
  {
   "cell_type": "markdown",
   "metadata": {},
   "source": [
    "Tim O'Reilly, Lady Gaga, and Marissa Mayer share a little over 26k followers in common, which is approximately 5% of Marissa Mayer's entire follower base. But how many of these common followers may be suspect? Let's backup and compute Marissa Mayer's suspect followers so that we can find out."
   ]
  },
  {
   "cell_type": "code",
   "execution_count": 12,
   "metadata": {},
   "outputs": [
    {
     "name": "stdout",
     "output_type": "stream",
     "text": [
      "Marissa Mayer has 69538 'suspect' followers for MIN=10\n"
     ]
    },
    {
     "data": {
      "text/plain": [
       "<matplotlib.text.Text at 0xd81c690>"
      ]
     },
     "execution_count": 12,
     "metadata": {},
     "output_type": "execute_result"
    },
    {
     "data": {
      "image/png": "[encoded data removed]",
      "text/plain": [
       "<matplotlib.figure.Figure at 0x3248ed0>"
      ]
     },
     "metadata": {},
     "output_type": "display_data"
    }
   ],
   "source": [
    "# Let's recycle some code to compute Marissa Mayer's suspect followers\n",
    "\n",
    "MIN = 10\n",
    "marissamayer_suspect_followers = [f \n",
    "                                for f in load_from_mongo('marissamayer', 'followers_profiles', \n",
    "                                                          projection={'followers_count' : 1, 'id' : 1, '_id' : 0})\n",
    "                                if f['followers_count'] < MIN]\n",
    "\n",
    "print \"Marissa Mayer has {0} 'suspect' followers for MIN={1}\".format(len(marissamayer_suspect_followers), MIN)\n",
    "\n",
    "marissamayer_suspect_followers_counts = sorted([f['followers_count'] \n",
    "                                              for f in marissamayer_suspect_followers], reverse=True)\n",
    "\n",
    "plt.hist(marissamayer_suspect_followers_counts)\n",
    "plt.title(\"Marissa Mayer Suspect Followers\")\n",
    "plt.xlabel('Bins (range of followers)')\n",
    "plt.ylabel('Number of followers in each bin')"
   ]
  },
  {
   "cell_type": "markdown",
   "metadata": {},
   "source": [
    "Whoa! Only ~70k of Marissa Mayer's followers are suspect when using the same criteria that we applied to Tim O'Reilly. This number as a percentage is significantly lower than Tim O'Reilly's. If you take a closer look at their account data you'll see that Tim O'Reilly was a very early user, creating an account in March 2007, and was already a popular and well-known user by 2009 when there was significant growth (and may have been a spam bot attack.) Marissa Mayer, on the other hand, didn't create an account until late November 2008, so she would likely not yet have been a popular user in early 2009 when the sharp growth occurred.\n",
    "\n",
    "Let's subtract out these suspect followers from the previously computed common set between Tim O'Reilly and Lady Gaga to see how many remain."
   ]
  },
  {
   "cell_type": "code",
   "execution_count": 29,
   "metadata": {},
   "outputs": [
    {
     "name": "stdout",
     "output_type": "stream",
     "text": [
      "Tim O'Reilly, Lady Gaga, and Marissa Mayer have 25470 non-suspect followers in common.\n"
     ]
    }
   ],
   "source": [
    "marissamayer_suspect_followers_ids = set([f['id'] for f in marissamayer_suspect_followers])\n",
    "\n",
    "all_common_followers_ids_not_suspect = all_common_followers_ids - \\\n",
    "                                       (timoreilly_suspect_followers_ids | marissamayer_suspect_followers_ids)\n",
    "\n",
    "print \"Tim O'Reilly, Lady Gaga, and Marissa Mayer have {0} non-suspect followers in common.\"\\\n",
    ".format(len(all_common_followers_ids_not_suspect))"
   ]
  },
  {
   "cell_type": "markdown",
   "metadata": {},
   "source": [
    "It appears that the vast majority of the common followers are not suspect at all and may be active users! In other words, Tim O'Reilly, Lady Gaga, and Marissa Mayer have 25k followers in common that have passed the initial test of scrutiny."
   ]
  },
  {
   "cell_type": "markdown",
   "metadata": {},
   "source": [
    "## Rewind: Wrapping up a few loose ends"
   ]
  },
  {
   "cell_type": "markdown",
   "metadata": {},
   "source": [
    "Before wrapping up, there are just a few additional unanswered questions that we can answer in order to create a little more symmetry and closure for some of the comparisons. In particular, we have the data and variables already defined to answer these questions:\n",
    "\n",
    "* How many of Marissa Mayer's followers follow Lady Gaga?\n",
    "* How many followers do Tim O'Reilly and Marissa Mayer have in common?"
   ]
  },
  {
   "cell_type": "code",
   "execution_count": 34,
   "metadata": {},
   "outputs": [
    {
     "name": "stdout",
     "output_type": "stream",
     "text": [
      "Marissa Mayer and Lady Gaga have 82553 followers in common. 72107 of them are not suspect.\n",
      "Tim O'Reilly and Marissa Mayer have 99457 followers in common. 94612 of them are not suspect.\n"
     ]
    }
   ],
   "source": [
    "marissamayer_ladygaga_followers_ids = marissamayer_followers_ids & ladygaga_followers_ids\n",
    "marissamayer_ladygaga_followers_ids_not_suspect = marissamayer_ladygaga_followers_ids - marissamayer_suspect_followers_ids\n",
    "                                                  \n",
    "\n",
    "timoreilly_marissamayer_followers_ids = timoreilly_followers_ids & marissamayer_followers_ids\n",
    "timoreilly_marissamayer_followers_ids_not_suspect = timoreilly_marissamayer_followers_ids - marissamayer_suspect_followers_ids\n",
    "                                                    \n",
    "\n",
    "print \"Marissa Mayer and Lady Gaga have {0} followers in common. {1} of them are not suspect.\"\\\n",
    ".format(len(marissamayer_ladygaga_followers_ids), len(marissamayer_ladygaga_followers_ids_not_suspect))    \n",
    "    \n",
    "print \"Tim O'Reilly and Marissa Mayer have {0} followers in common. {1} of them are not suspect.\"\\\n",
    ".format(len(timoreilly_marissamayer_followers_ids), len(timoreilly_marissamayer_followers_ids_not_suspect))"
   ]
  },
  {
   "cell_type": "markdown",
   "metadata": {},
   "source": [
    "Recalling that more than 225k of Tim O'Reilly's non-suspect followers also follow Lady Gaga (~25% of his non-suspect follower base), we can now see that ~72k of Marissa Mayer's followers also follow Lady Gaga (~18% of her non-suspect follower base.)\n",
    "\n",
    "Marissa Mayer and Tim O'Reilly have approximately 100k common followers between them with about 95k of these common followers passing the test of scrutiny."
   ]
  },
  {
   "cell_type": "markdown",
   "metadata": {},
   "source": [
    "## Where to go from here"
   ]
  },
  {
   "cell_type": "markdown",
   "metadata": {},
   "source": [
    "There are countless possibilities for exploring the data, and I hope that this notebook has given you more ideas than you know what to do with. Although we've just considered a narrow dimension of it, there is much, much more tucked away in the account profiles.\n",
    "\n",
    "Enjoy the process of extending this notebook and stay tuned at http://MiningTheSocialWeb.com for more content like it. If there is sufficient interest, there may be an encore presentation that picks up from here.\n",
    "\n",
    "Enjoy!\n",
    "\n",
    "Suggested exercises:\n",
    "\n",
    "* Apply similar analysis for the accounts that Tim O'Reilly, Lady Gaga, and Marissa Mayer are following (the accounts that they are *interested* in.) How influenceable are these accounts? What metrics would you apply to try and make this determination?\n",
    "* Would you expect that a higher percentage of females might follow Marissa Mayer than Tim O'Reilly? (You can analyze first names to get a reasonable idea of whether or not this is the case. See http://tedwise.com/check-name for a list of fist names that you can use.)\n",
    "* Pick a figure of your own choosing and introduce them to the comparison matrix. Who are they most similar to based upon the Jaccard similarity of their followers?"
   ]
  },
  {
   "cell_type": "markdown",
   "metadata": {},
   "source": [
    "# 4. Summarize"
   ]
  },
  {
   "cell_type": "markdown",
   "metadata": {},
   "source": [
    "Although there are numerous possibilities for quite interesting analysis, the scope of this notebook was intentionally kept fairly narrow, and the objective was more to whet your appetite for analyzing social web data than to rigorously *prove* anything. That said, we did observe a few interesting things:\n",
    "\n",
    "* **Approximately 50% of Tim O'Reilly's followers are suspect**. In other words, these \"users\" may not be users at all. They may be spam-bots or abandoned accounts who are not influenceable at all.\n",
    "\n",
    "* In contrast, we discovered that **only ~15% of Marissa Mayer's followers were suspect** when applying the same criteria as that of Tim O'Reilly. \n",
    "\n",
    "    * Although purely speculative at this point, **there may have been a spam-bot attack in early 2009** that explains this given that the majority of Tim O'Reilly's suspect users are from that year, which is the same year that Twitter experiences unprecedented user growth. Further investigation would be needed to say for sure. (Marissa Mayer wouldn't yet have been a popular or well-known Twitter user back then since she didn't create an account until late 2008. Tim O'Reilly, on the other hand, was already an established and well-known user who would have been a ripe target for spam-bots.)\n",
    "\n",
    "* Tim O'Reilly and Lady Gaga have more than 250k followers in common with almost 225k of them passing the test of scrutiny. What's interesting about this finding is that it means that **roughly 25% of Tim O'Reilly's followers also follow Lady Gaga as compared to 18% for Marissa Mayer** once you filter out the suspect accounts.\n",
    "\n",
    "* Tim O'Reilly and Marissa Mayer have about 100k followers in common with 95k of these followers being non-suspect.\n",
    "\n",
    "* We computed Jaccard similarity for the combinations of Tim O'Reilly, Lady Gaga, and Marissa Mayer. Not too surprisingly, **Tim O'Reilly and Marissa Mayer had a higher Jaccard similarity than the other two possible combinations involving Lady Gaga**.\n",
    "\n",
    "* **Tim O'Reilly, Lady Gaga, and Marissa Mayer have more than 25k total followers in common** that have passed the initial test of scrutiny.\n",
    "\n",
    "See <a href=\"http://wp.me/p3QiJd-4k\">http://wp.me/p3QiJd-4k</a> for a more detailed write-up of this summary."
   ]
  },
  {
   "cell_type": "markdown",
   "metadata": {},
   "source": [
    "# Recommended Links"
   ]
  },
  {
   "cell_type": "markdown",
   "metadata": {},
   "source": [
    "* <a href=\"http://MiningTheSocialWeb.com\">Mining the Social Web - Blog</a>\n",
    "* <a href=\"http://miningthesocialweb.com/quick-start/\">Mining the Social Web - Quick Start Guide</a>\n",
    "* <a href=\"http://bit.ly/MiningTheSocialWeb2E\">Mining the Social Web - GitHub</a>\n",
    "* <a href=\"http://bit.ly/135dHfs\">Mining the Social Web - Book (O'Reilly Media)</a>\n",
    "* <a href=\"http://amzn.to/GPd59m\">Mining the Social Web - Book (Amazon)</a>"
   ]
  }
 ],
 "metadata": {
  "kernelspec": {
   "display_name": "Python 3",
   "language": "python",
   "name": "python3"
  },
  "language_info": {
   "codemirror_mode": {
    "name": "ipython",
    "version": 3
   },
   "file_extension": ".py",
   "mimetype": "text/x-python",
   "name": "python",
   "nbconvert_exporter": "python",
   "pygments_lexer": "ipython3",
   "version": "3.6.1"
  }
 },
 "nbformat": 4,
 "nbformat_minor": 1
}
