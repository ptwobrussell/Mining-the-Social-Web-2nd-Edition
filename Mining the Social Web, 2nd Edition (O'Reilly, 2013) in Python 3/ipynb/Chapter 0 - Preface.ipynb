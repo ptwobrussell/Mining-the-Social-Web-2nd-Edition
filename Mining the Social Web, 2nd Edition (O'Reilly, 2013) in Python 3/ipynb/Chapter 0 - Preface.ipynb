{
 "cells": [
  {
   "cell_type": "markdown",
   "metadata": {},
   "source": [
    "# Mining the Social Web (2nd Edition)\n",
    "\n",
    "## Preface\n",
    "\n",
    "Welcome! Allow me to be the first to offer my congratulations on your decision to take an interest in [_Mining the Social Web (2nd Edition)_](http://bit.ly/135dHfs)! This collection of [IPython Notebooks](http://ipython.org/notebook.html) provides an interactive way to follow along with and explore the numbered examples from the book. Whereas many technical books require you type in the code examples one character at a time or download a source code archive (that may or may not be maintained by the author), this book reinforces the concepts from the sample code in a fun, convenient, and interactive way that really does make the learning experience superior to what you may have previously experienced, so even if you are skeptical, please give it try. I think you'll be pleasantly surprised at the amazing user experience that IPython Notebook affords and just how much easier it is to follow along and adapt the code to your own particular needs. \n",
    "\n",
    "In the somewhat unlikely event that you've somehow stumbled across this notebook outside of its context on GitHub, [you can find the full source code repository here](http://bit.ly/16kGNyb).)\n",
    "\n",
    "The default expectation is that as a consumer of _Mining the Social Web_ and its source code, you will take advantage of the incredible virtual machine experience that's been designed to enhance your pleasure in following along with this book and described in some more detail in the \"Appendix A (Virtual Machine Experience)\" notebook. The virtual machine experience is powered by  [Vagrant](http://www.vagrantup.com/), an amazing abstraction that works on top of virtualization providers such as Virtualbox and VMWare, and simplifies the tedious and time-consuming configuration management that arise when trying to provide a consitent user experience across multiple platforms, various software versions, 3rd party dependencies that are continually updating, etc. \n",
    "\n",
    "In short, the virtual machine experience for this book that's powered by Vagrant provides a well-tested \"frozen\" development environment for the source code in the book that frees you from dealing with myriad system administration complexities that you would otherwise be liable for figuring out to configure your development environment. The virtual machine experience is part of the source code repository and is maintained by the author (with notable contributions from others in the social web mining community.)\n",
    "\n",
    "If you haven't previously encountered IPython Notebook, you really should take a moment to learn more about it at http://ipython.org/notebook.html. It's essentially a platform that allows you to author and run Python source code in the web browser and lends itself very well to data science experiments in which you're taking notes and learning along the way. Personally, I like to think of it as a special purpose notepad that allows me to embed and run arbitrary Python code, and I find myself increasingly using it as my default development environment for many of my Python-based projects. \n",
    "\n",
    "The source code for _Mining the Social Web_ book employs IPython Notebook rather exclusively to present the source code as a means of streamlining and enhancing the learning experience, so it is highly recommended that you take a few minutes to learn more about how it works and why it's such an excellent learning (and development) platform. The [same GitHub source code repository](http://bit.ly/16kGNyb) that contains this file also contains all of the IPython Notebooks for _Mining the Social Web_, so once you've followed along with the instructions in Appendix A and gotten your virtual machine environment installed, just open the corresponding notebook from [http://localhost:8888](http://localhost:8888). From that point, following along with the code is literally as easy to pressing ctrl-Enter in IPython Notebook cells.\n",
    "\n",
    "Although you really should make haste in setting up your virtual machine so that you'll be ready to make the most of this experience as soon as possible, it may also be worth pointing out that you can browse [read-only versions of all of these IPython Notebooks online](https://github.com/ptwobrussell/Mining-the-Social-Web-2nd-Edition#preview-the-ipython-notebooks).\n",
    "\n",
    "If you experience any problems along the way or have any feedback about this book, its software, or anything else at all, please reach out on Twitter, Facebook, or GitHub for help.\n",
    "\n",
    "* Twitter: [http://twitter.com/socialwebmining](http://twitter.com/socialwebmining) (@SocialWebMining)\n",
    "* Facebook: [http://facebook.com/MiningTheSocialWeb](http://twitter.com/socialwebmining)\n",
    "* GitHub: [https://github.com/ptwobrussell/Mining-the-Social-Web-2nd-Edition/](https://github.com/ptwobrussell/Mining-the-Social-Web-2nd-Edition/)\n",
    "\n",
    "Thanks once again for your interest in _Mining the Social Web_. I truly hope that you learn a lot of new things (and have more fun than you ever expected) from this book.\n",
    "\n",
    "Best Regards,<br />\n",
    "Matthew A. Russell<br />\n",
    "Twitter: @ptwobrussell\n",
    "\n",
    "P.S. Even if you are a savvy and accomplished developer, you will still find it worthwhile to use the turn-key virtual machine that's been provided since it is tested and comes pre-loaded with all of the correct dependencies for following along with the examples. If despite my best efforts you still decide to try and run without the benefits of the virtual machine, at least review the Vagrant-related information for this project; it'll definitely save you a lot of time with configuration management."
   ]
  },
  {
   "cell_type": "code",
   "execution_count": null,
   "metadata": {},
   "outputs": [],
   "source": [
    "# This is a Python source code comment in a IPython Notebook cell. \n",
    "# Try executing this cell by placing your cursor in it and typing ctrl-Enter\n",
    "\n",
    "print(\"Hello, Social Web!\")\n",
    "\n",
    "# See Appendix A to get your virtual machine installed\n",
    "\n",
    "# See Appendix C for a brief overview of some Python idioms and IPython Notebook tips"
   ]
  }
 ],
 "metadata": {
  "kernelspec": {
   "display_name": "Python 3",
   "language": "python",
   "name": "python3"
  },
  "language_info": {
   "codemirror_mode": {
    "name": "ipython",
    "version": 3
   },
   "file_extension": ".py",
   "mimetype": "text/x-python",
   "name": "python",
   "nbconvert_exporter": "python",
   "pygments_lexer": "ipython3",
   "version": "3.6.1"
  }
 },
 "nbformat": 4,
 "nbformat_minor": 1
}
