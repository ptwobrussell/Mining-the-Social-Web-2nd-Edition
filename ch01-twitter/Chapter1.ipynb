{
 "metadata": {
  "name": "Chapter1"
 },
 "nbformat": 3,
 "nbformat_minor": 0,
 "worksheets": [
  {
   "cells": [
    {
     "cell_type": "markdown",
     "metadata": {},
     "source": [
      "#Mining the Social Web, 2nd Edition\n",
      "\n",
      "##Chapter 1: Mining the Twitterverse: Exploring Trending Topics, Discovering What People Are Talking About, and More\n",
      "\n",
      "This IPython Notebook provides an interactive way to follow along with and explore the numbered examples from _Mining the Social Web_, 2nd Edition. The intent behind this notebook is to reinforce the concepts from the sample code in a fun, convenient, and effective way. This notebook assumes that you are reading along with the book and have the context of the discussion as you work through these exercises.\n",
      "\n",
      "[XXX: Insert hyperlinks for book once it's available for purchase]\n",
      "\n",
      "## Copyright and Licensing\n",
      "\n",
      "You are free to use or adapt this notebook for any purpose you'd like. However, please respect the following \"Simplified BSD License\" (also known as \"FreeBSD License\") that governs its use. Basically, you can do whatever you want with the code so long as you retain the copyright notice.\n",
      "\n",
      "Copyright (c) 2013, Matthew A. Russell\n",
      "All rights reserved.\n",
      "\n",
      "Redistribution and use in source and binary forms, with or without\n",
      "modification, are permitted provided that the following conditions are met: \n",
      "\n",
      "1. Redistributions of source code must retain the above copyright notice, this\n",
      "   list of conditions and the following disclaimer. \n",
      "2. Redistributions in binary form must reproduce the above copyright notice,\n",
      "   this list of conditions and the following disclaimer in the documentation\n",
      "   and/or other materials provided with the distribution. \n",
      "\n",
      "THIS SOFTWARE IS PROVIDED BY THE COPYRIGHT HOLDERS AND CONTRIBUTORS \"AS IS\" AND\n",
      "ANY EXPRESS OR IMPLIED WARRANTIES, INCLUDING, BUT NOT LIMITED TO, THE IMPLIED\n",
      "WARRANTIES OF MERCHANTABILITY AND FITNESS FOR A PARTICULAR PURPOSE ARE\n",
      "DISCLAIMED. IN NO EVENT SHALL THE COPYRIGHT OWNER OR CONTRIBUTORS BE LIABLE FOR\n",
      "ANY DIRECT, INDIRECT, INCIDENTAL, SPECIAL, EXEMPLARY, OR CONSEQUENTIAL DAMAGES\n",
      "(INCLUDING, BUT NOT LIMITED TO, PROCUREMENT OF SUBSTITUTE GOODS OR SERVICES;\n",
      "LOSS OF USE, DATA, OR PROFITS; OR BUSINESS INTERRUPTION) HOWEVER CAUSED AND\n",
      "ON ANY THEORY OF LIABILITY, WHETHER IN CONTRACT, STRICT LIABILITY, OR TORT\n",
      "(INCLUDING NEGLIGENCE OR OTHERWISE) ARISING IN ANY WAY OUT OF THE USE OF THIS\n",
      "SOFTWARE, EVEN IF ADVISED OF THE POSSIBILITY OF SUCH DAMAGE.\n",
      "\n",
      "The views and conclusions contained in the software and documentation are those\n",
      "of the authors and should not be interpreted as representing official policies, \n",
      "either expressed or implied, of the FreeBSD Project."
     ]
    },
    {
     "cell_type": "markdown",
     "metadata": {},
     "source": [
      "# Twitter API Access\n",
      "\n",
      "Twitter implements OAuth 1.0A as its standard authentication mechanism, and in order to use it to make requests to Twitter's API, you'll need to go to https://dev.twitter.com/apps and create a sample application. There are four primary identifiers you'll need to note for an OAuth 1.0A workflow: consumer key, consumer secret, access token, and access token secret. Note that you will need an ordinary Twitter account in order to login, create an app, and get these credentials.\n",
      "\n",
      "<img src=\"files/images/Twitter-AppCredentials.png\" width=\"600px\">"
     ]
    },
    {
     "cell_type": "markdown",
     "metadata": {},
     "source": [
      "The examples in this chapter take advantage of a Python package called [twitter](https://github.com/sixohsix/twitter) to make API calls. You can install this package in a terminal with [pip](https://pypi.python.org/pypi/pip) with the command `pip install twitter`, preferably from within a [virtual environment](https://pypi.python.org/pypi/virtualenv)."
     ]
    },
    {
     "cell_type": "markdown",
     "metadata": {},
     "source": [
      "Once installed, you should be able to open up a Python interpreter (or better yet, your [IPython](http://ipython.org/) interpreter) and get rolling."
     ]
    },
    {
     "cell_type": "markdown",
     "metadata": {},
     "source": [
      "**Example 1. Authorizing an application to access Twitter account data**"
     ]
    },
    {
     "cell_type": "code",
     "collapsed": false,
     "input": [
      "import twitter\n",
      "\n",
      "# Go to http://twitter.com/apps/new to create an app and get these items\n",
      "# See https://dev.twitter.com/docs/auth/oauth for more information \n",
      "# on Twitter's OAuth implementation\n",
      "\n",
      "CONSUMER_KEY = ''\n",
      "CONSUMER_SECRET = ''\n",
      "OAUTH_TOKEN = ''\n",
      "OAUTH_TOKEN_SECRET = ''\n",
      "\n",
      "auth = twitter.oauth.OAuth(OAUTH_TOKEN, OAUTH_TOKEN_SECRET,\n",
      "                           CONSUMER_KEY, CONSUMER_SECRET)\n",
      "\n",
      "twitter_api = twitter.Twitter(auth=auth)"
     ],
     "language": "python",
     "metadata": {},
     "outputs": []
    },
    {
     "cell_type": "markdown",
     "metadata": {},
     "source": [
      "**Example 2. Retrieving trends**"
     ]
    },
    {
     "cell_type": "code",
     "collapsed": false,
     "input": [
      "# The Yahoo! Where On Earth ID for the entire world is 1\n",
      "# See https://dev.twitter.com/docs/api/1.1/get/trends/place and\n",
      "# http://developer.yahoo.com/geo/geoplanet/\n",
      "\n",
      "WORLD_WOE_ID = 1 \n",
      "US_WOE_ID = 23424977\n",
      "\n",
      "# Prefix id with the underscore for query string parameterization.\n",
      "# Without the underscore, the twitter package appends the id value\n",
      "# to the URL itself as a special case keyword argument\n",
      "\n",
      "world_trends = twitter_api.trends.place(_id=WORLD_WOE_ID)\n",
      "us_trends = twitter_api.trends.place(_id=US_WOE_ID)\n",
      "print world_trends\n",
      "print\n",
      "print us_trends"
     ],
     "language": "python",
     "metadata": {},
     "outputs": []
    },
    {
     "cell_type": "markdown",
     "metadata": {},
     "source": [
      "**Example 3. Displaying API responses as pretty printed JSON**"
     ]
    },
    {
     "cell_type": "code",
     "collapsed": false,
     "input": [
      "import json\n",
      "print json.dumps(world_trends, indent=1)\n",
      "print\n",
      "print json.dumps(us_trends, indent=1)"
     ],
     "language": "python",
     "metadata": {},
     "outputs": []
    },
    {
     "cell_type": "markdown",
     "metadata": {},
     "source": [
      "**Example 4. An (abbreviated) sample response from the trends API**"
     ]
    },
    {
     "cell_type": "markdown",
     "metadata": {},
     "source": [
      "```[\n",
      " {\n",
      "  \"created_at\": \"2013-03-27T11:50:40Z\", \n",
      "  \"trends\": [\n",
      "   {\n",
      "    \"url\": \"http://twitter.com/search?q=%23MentionSomeoneImportantForYou\", \n",
      "    \"query\": \"%23MentionSomeoneImportantForYou\", \n",
      "    \"name\": \"#MentionSomeoneImportantForYou\", \n",
      "    \"promoted_content\": null, \n",
      "    \"events\": null\n",
      "   },\n",
      "   ...\n",
      "  ]\n",
      " }\n",
      "]```"
     ]
    },
    {
     "cell_type": "markdown",
     "metadata": {},
     "source": [
      "**Example 5. Computing the intersection of two sets of trends**"
     ]
    },
    {
     "cell_type": "code",
     "collapsed": false,
     "input": [
      "world_trends_set = set([trend['name'] for trend in world_trends[0]['trends']])\n",
      "us_trends_set = set([trend['name'] for trend in us_trends[0]['trends']])         \n",
      "common_trends = world_trends_set.intersection(us_trends_set)\n",
      "print common_trends"
     ],
     "language": "python",
     "metadata": {},
     "outputs": []
    },
    {
     "cell_type": "markdown",
     "metadata": {},
     "source": [
      "**Example 6. Collecting search results**"
     ]
    },
    {
     "cell_type": "code",
     "collapsed": false,
     "input": [
      "q = '#MentionSomeoneImportantForYou' # A trending topic, or anything else for that matter\n",
      "\n",
      "count = 100\n",
      "\n",
      "# See https://dev.twitter.com/docs/api/1.1/get/search/tweets\n",
      "\n",
      "search_results = twitter_api.search.tweets(q=q, count=count)\n",
      "\n",
      "statuses = search_results['statuses']\n",
      "\n",
      "\n",
      "# Iterate through 5 more batches of results by following the cursor\n",
      "\n",
      "for _ in range(5): \n",
      "    try:\n",
      "        next_results = search_results['search_metadata']['next_results']\n",
      "    except KeyError, e: # No more results when next_results doesn't exist\n",
      "        break\n",
      "        \n",
      "    # Create a dictionary from next_results, which has the following form:\n",
      "    # ?max_id=313519052523986943&q=NCAA&include_entities=1\n",
      "    kwargs = dict([ kv.split('=') for kv in next_results[1:].split(\"&\") ])\n",
      "    \n",
      "    search_results = twitter_api.search.tweets(**kwargs)\n",
      "    statuses += search_results['statuses']"
     ],
     "language": "python",
     "metadata": {},
     "outputs": []
    },
    {
     "cell_type": "markdown",
     "metadata": {},
     "source": [
      "**Example 7. A sample tweet from search results**"
     ]
    },
    {
     "cell_type": "markdown",
     "metadata": {},
     "source": [
      "```[\n",
      " {\n",
      "  \"contributors\": null, \n",
      "  \"truncated\": false, \n",
      "  \"text\": \"RT @hassanmusician: #MentionSomeoneImportantForYou God.\", \n",
      "  \"in_reply_to_status_id\": null, \n",
      "  \"id\": 316948241264549888, \n",
      "  \"favorite_count\": 0, \n",
      "  \"source\": \"&lt;a href=\\\"http://twitter.com/download/android\\\"...\", \n",
      "  \"retweeted\": false, \n",
      "  \"coordinates\": null, \n",
      "  \"entities\": {\n",
      "   \"user_mentions\": [\n",
      "    {\n",
      "     \"id\": 56259379, \n",
      "     \"indices\": [\n",
      "      3, \n",
      "      18\n",
      "     ], \n",
      "     \"id_str\": \"56259379\", \n",
      "     \"screen_name\": \"hassanmusician\", \n",
      "     \"name\": \"Download the NEW LP!\"\n",
      "    }\n",
      "   ], \n",
      "   \"hashtags\": [\n",
      "    {\n",
      "     \"indices\": [\n",
      "      20, \n",
      "      50\n",
      "     ], \n",
      "     \"text\": \"MentionSomeoneImportantForYou\"\n",
      "    }\n",
      "   ], \n",
      "   \"urls\": []\n",
      "  }, \n",
      "  \"in_reply_to_screen_name\": null, \n",
      "  \"in_reply_to_user_id\": null, \n",
      "  \"retweet_count\": 23, \n",
      "  \"id_str\": \"316948241264549888\", \n",
      "  \"favorited\": false, \n",
      "  \"retweeted_status\": {\n",
      "   \"contributors\": null, \n",
      "   \"truncated\": false, \n",
      "   \"text\": \"#MentionSomeoneImportantForYou God.\", \n",
      "   \"in_reply_to_status_id\": null, \n",
      "   \"id\": 316944833233186816, \n",
      "   \"favorite_count\": 0, \n",
      "   \"source\": \"web\", \n",
      "   \"retweeted\": false, \n",
      "   \"coordinates\": null, \n",
      "   \"entities\": {\n",
      "    \"user_mentions\": [], \n",
      "    \"hashtags\": [\n",
      "     {\n",
      "      \"indices\": [\n",
      "       0, \n",
      "       30\n",
      "      ], \n",
      "      \"text\": \"MentionSomeoneImportantForYou\"\n",
      "     }\n",
      "    ], \n",
      "    \"urls\": []\n",
      "   }, \n",
      "   \"in_reply_to_screen_name\": null, \n",
      "   \"in_reply_to_user_id\": null, \n",
      "   \"retweet_count\": 23, \n",
      "   \"id_str\": \"316944833233186816\", \n",
      "   \"favorited\": false, \n",
      "   \"user\": {\n",
      "    \"follow_request_sent\": null, \n",
      "    \"profile_use_background_image\": true, \n",
      "    \"default_profile_image\": false, \n",
      "    \"id\": 56259379, \n",
      "    \"verified\": false, \n",
      "    \"profile_text_color\": \"3C3940\", \n",
      "    \"profile_image_url_https\": \"https://si0.t...\", \n",
      "    \"profile_sidebar_fill_color\": \"95E8EC\", \n",
      "    \"entities\": {\n",
      "     \"url\": {\n",
      "      \"urls\": [\n",
      "       {\n",
      "        \"url\": \"http://t.co/yRX89YM4J0\", \n",
      "        \"indices\": [\n",
      "         0, \n",
      "         22\n",
      "        ], \n",
      "        \"expanded_url\": \"http://www.datpiff....\", \n",
      "        \"display_url\": \"datpiff.com/mixtapes-detai\\u2026\"\n",
      "       }\n",
      "      ]\n",
      "     }, \n",
      "     \"description\": {\n",
      "      \"urls\": []\n",
      "     }\n",
      "    }, \n",
      "    \"followers_count\": 105041, \n",
      "    \"profile_sidebar_border_color\": \"000000\", \n",
      "    \"id_str\": \"56259379\", \n",
      "    \"profile_background_color\": \"000000\", \n",
      "    \"listed_count\": 64, \n",
      "    \"profile_background_image_url_https\": \"https://si0.t...\", \n",
      "    \"utc_offset\": -18000, \n",
      "    \"statuses_count\": 16691, \n",
      "    \"description\": \"#TheseAreTheWordsISaid LP\", \n",
      "    \"friends_count\": 59615, \n",
      "    \"location\": \"\", \n",
      "    \"profile_link_color\": \"91785A\", \n",
      "    \"profile_image_url\": \"http://a0.twimg.com/...\", \n",
      "    \"following\": null, \n",
      "    \"geo_enabled\": true, \n",
      "    \"profile_banner_url\": \"https://si0.twimg.com/pr...\", \n",
      "    \"profile_background_image_url\": \"http://a0.twi...\", \n",
      "    \"screen_name\": \"hassanmusician\", \n",
      "    \"lang\": \"en\", \n",
      "    \"profile_background_tile\": false, \n",
      "    \"favourites_count\": 6142, \n",
      "    \"name\": \"Download the NEW LP!\", \n",
      "    \"notifications\": null, \n",
      "    \"url\": \"http://t.co/yRX89YM4J0\", \n",
      "    \"created_at\": \"Mon Jul 13 02:18:25 +0000 2009\", \n",
      "    \"contributors_enabled\": false, \n",
      "    \"time_zone\": \"Eastern Time (US &amp; Canada)\", \n",
      "    \"protected\": false, \n",
      "    \"default_profile\": false, \n",
      "    \"is_translator\": false\n",
      "   }, \n",
      "   \"geo\": null, \n",
      "   \"in_reply_to_user_id_str\": null, \n",
      "   \"lang\": \"en\", \n",
      "   \"created_at\": \"Wed Mar 27 16:08:31 +0000 2013\", \n",
      "   \"in_reply_to_status_id_str\": null, \n",
      "   \"place\": null, \n",
      "   \"metadata\": {\n",
      "    \"iso_language_code\": \"en\", \n",
      "    \"result_type\": \"recent\"\n",
      "   }\n",
      "  }, \n",
      "  \"user\": {\n",
      "   \"follow_request_sent\": null, \n",
      "   \"profile_use_background_image\": true, \n",
      "   \"default_profile_image\": false, \n",
      "   \"id\": 549413966, \n",
      "   \"verified\": false, \n",
      "   \"profile_text_color\": \"3D1957\", \n",
      "   \"profile_image_url_https\": \"https://si0.twimg....\", \n",
      "   \"profile_sidebar_fill_color\": \"7AC3EE\", \n",
      "   \"entities\": {\n",
      "    \"description\": {\n",
      "     \"urls\": []\n",
      "    }\n",
      "   }, \n",
      "   \"followers_count\": 110, \n",
      "   \"profile_sidebar_border_color\": \"FFFFFF\", \n",
      "   \"id_str\": \"549413966\", \n",
      "   \"profile_background_color\": \"642D8B\", \n",
      "   \"listed_count\": 1, \n",
      "   \"profile_background_image_url_https\": \"https:...\", \n",
      "   \"utc_offset\": 0, \n",
      "   \"statuses_count\": 1294, \n",
      "   \"description\": \"i BELIEVE do you? I admire n adore @justinbieber \", \n",
      "   \"friends_count\": 346, \n",
      "   \"location\": \"All Around The World \", \n",
      "   \"profile_link_color\": \"FF0000\", \n",
      "   \"profile_image_url\": \"http://a0.twimg.com/pr...\", \n",
      "   \"following\": null, \n",
      "   \"geo_enabled\": true, \n",
      "   \"profile_banner_url\": \"https://si0.twimg.com/...\", \n",
      "   \"profile_background_image_url\": \"http://a0.tw...\", \n",
      "   \"screen_name\": \"LilSalima\", \n",
      "   \"lang\": \"en\", \n",
      "   \"profile_background_tile\": true, \n",
      "   \"favourites_count\": 229, \n",
      "   \"name\": \"KoKo :D\", \n",
      "   \"notifications\": null, \n",
      "   \"url\": null, \n",
      "   \"created_at\": \"Mon Apr 09 17:51:36 +0000 2012\", \n",
      "   \"contributors_enabled\": false, \n",
      "   \"time_zone\": \"London\", \n",
      "   \"protected\": false, \n",
      "   \"default_profile\": false, \n",
      "   \"is_translator\": false\n",
      "  }, \n",
      "  \"geo\": null, \n",
      "  \"in_reply_to_user_id_str\": null, \n",
      "  \"lang\": \"en\", \n",
      "  \"created_at\": \"Wed Mar 27 16:22:03 +0000 2013\", \n",
      "  \"in_reply_to_status_id_str\": null, \n",
      "  \"place\": null, \n",
      "  \"metadata\": {\n",
      "   \"iso_language_code\": \"en\", \n",
      "   \"result_type\": \"recent\"\n",
      "  }\n",
      " }, \n",
      " ...\n",
      "]```"
     ]
    },
    {
     "cell_type": "markdown",
     "metadata": {},
     "source": [
      "Note: You can load the same set of search results that are used in this chapter and the particular tweet above by executing the code below that reads a snapshot of the data and stores it into the same statuses variable as was defined above."
     ]
    },
    {
     "cell_type": "code",
     "collapsed": false,
     "input": [
      "import json\n",
      "statuses = json.loads(open('data/MentionSomeoneImportantForYou.json').read())\n",
      "\n",
      "# The result of the list comprehension is a list with only one element that\n",
      "# can be accessed by its index and set to the variable t\n",
      "t = [ status \n",
      "      for status in statuses\n",
      "          if status['id'] == 316948241264549888 ][0]\n",
      "\n",
      "# Explore the variable t to get familiarized with the data structure...\n",
      "\n",
      "print t['retweet_count']\n",
      "print t['retweeted_status']"
     ],
     "language": "python",
     "metadata": {},
     "outputs": []
    },
    {
     "cell_type": "markdown",
     "metadata": {},
     "source": [
      "**Example 8. Extracting text, screen names, and hashtags from tweets**"
     ]
    },
    {
     "cell_type": "code",
     "collapsed": false,
     "input": [
      "status_texts = [ status['text'] for status in statuses ]\n",
      "\n",
      "screen_names = [ user_mention['screen_name'] \n",
      "                 for status in statuses\n",
      "                     for user_mention in status['entities']['user_mentions'] ]\n",
      "\n",
      "hashtags = [ hashtag['text'] \n",
      "                 for status in statuses\n",
      "                     for hashtag in status['entities']['hashtags'] ]"
     ],
     "language": "python",
     "metadata": {},
     "outputs": []
    },
    {
     "cell_type": "markdown",
     "metadata": {},
     "source": [
      "**Example 9. Calculating lexical diversity for tweets**"
     ]
    },
    {
     "cell_type": "code",
     "collapsed": false,
     "input": [
      "# A function for computing lexical diversity\n",
      "def lexical_diversity(tokens):\n",
      "    return 1.0*len(set(tokens))/len(tokens) \n",
      "\n",
      "# A function for computing the average number of words per tweet\n",
      "def average_words(statuses):\n",
      "    total_words = sum([ len(s.split()) for s in statuses ]) \n",
      "    return 1.0*total_words/len(statuses)\n",
      "\n",
      "# Compute a collection of all words from all tweets\n",
      "words = [ w \n",
      "          for t in status_texts \n",
      "              for w in t.split() ]\n",
      "\n",
      "print lexical_diversity(words)\n",
      "print lexical_diversity(screen_names)\n",
      "print lexical_diversity(hashtags)\n",
      "print average_words(status_texts)"
     ],
     "language": "python",
     "metadata": {},
     "outputs": []
    },
    {
     "cell_type": "markdown",
     "metadata": {},
     "source": [
      "**Example 10. Creating a basic frequency distribution from the words in tweets**"
     ]
    },
    {
     "cell_type": "code",
     "collapsed": false,
     "input": [
      "from collections import Counter\n",
      "\n",
      "for item in [words, screen_names, hashtags]:\n",
      "    c = Counter(item)\n",
      "    print c.most_common()[:10] # top 10"
     ],
     "language": "python",
     "metadata": {},
     "outputs": []
    },
    {
     "cell_type": "markdown",
     "metadata": {},
     "source": [
      "**Example 11. Sample results from frequency analysis of tweets**"
     ]
    },
    {
     "cell_type": "markdown",
     "metadata": {},
     "source": [
      "<code>[(u'#MentionSomeoneImportantForYou', 92), (u'RT', 34), (u'my', 10), \n",
      " (u',', 6), (u'@justinbieber', 6), (u'&lt;3', 6), (u'My', 5), (u'and', 4), \n",
      " (u'I', 4), (u'te', 3)]\n",
      "\n",
      "[(u'justinbieber', 6), (u'Kid_Charliej', 2), (u'Cavillafuerte', 2), \n",
      " (u'touchmestyles_', 1), (u'aliceorr96', 1), (u'gymleeam', 1), (u'fienas', 1), \n",
      " (u'nayely_1D', 1), (u'angelchute', 1), (u'BigTittieAngel', 1)]\n",
      "\n",
      "[(u'MentionSomeoneImportantForYou', 94), (u'mentionsomeoneimportantforyou', 3), \n",
      " (u'NoHomo', 1), (u'Love', 1), (u'MentionSomeOneImportantForYou', 1), (u'MyHeart', 1), \n",
      " (u'bebesito', 1)]</code>"
     ]
    },
    {
     "cell_type": "markdown",
     "metadata": {},
     "source": [
      "**Example 12. Using prettytable to display tuples in a nice tabular format**"
     ]
    },
    {
     "cell_type": "code",
     "collapsed": false,
     "input": [
      "from prettytable import PrettyTable\n",
      "\n",
      "for label, data in (('Word', words), \n",
      "                    ('Screen Name', screen_names), \n",
      "                    ('Hashtag', hashtags)):\n",
      "    pt = PrettyTable(field_names=[label, 'Count']) \n",
      "    c = Counter(data)\n",
      "    [ pt.add_row(kv) for kv in c.most_common()[:10] ]\n",
      "    pt.align[label], pt.align['Count'] = 'l', 'r' # Set column alignment\n",
      "    print pt"
     ],
     "language": "python",
     "metadata": {},
     "outputs": []
    },
    {
     "cell_type": "markdown",
     "metadata": {},
     "source": [
      "**Example 13. Frequency distributions displayed in a tabular format**"
     ]
    },
    {
     "cell_type": "markdown",
     "metadata": {},
     "source": [
      "<pre>+--------------------------------+-------+\n",
      "| Word                           | Count |\n",
      "+--------------------------------+-------+\n",
      "| #MentionSomeoneImportantForYou |    92 |\n",
      "| RT                             |    34 |\n",
      "| my                             |    10 |\n",
      "| ,                              |     6 |\n",
      "| @justinbieber                  |     6 |\n",
      "| &lt;3                             |     6 |\n",
      "| My                             |     5 |\n",
      "| and                            |     4 |\n",
      "| I                              |     4 |\n",
      "| te                             |     3 |\n",
      "+--------------------------------+-------+\n",
      "+----------------+-------+\n",
      "| Screen Name    | Count |\n",
      "+----------------+-------+\n",
      "| justinbieber   |     6 |\n",
      "| Kid_Charliej   |     2 |\n",
      "| Cavillafuerte  |     2 |\n",
      "| touchmestyles_ |     1 |\n",
      "| aliceorr96     |     1 |\n",
      "| gymleeam       |     1 |\n",
      "| fienas         |     1 |\n",
      "| nayely_1D      |     1 |\n",
      "| angelchute     |     1 |\n",
      "| BigTittieAngel |     1 |\n",
      "+----------------+-------+\n",
      "+-------------------------------+-------+\n",
      "| Hashtag                       | Count |\n",
      "+-------------------------------+-------+\n",
      "| MentionSomeoneImportantForYou |    94 |\n",
      "| mentionsomeoneimportantforyou |     3 |\n",
      "| NoHomo                        |     1 |\n",
      "| Love                          |     1 |\n",
      "| MentionSomeOneImportantForYou |     1 |\n",
      "| MyHeart                       |     1 |\n",
      "| bebesito                      |     1 |\n",
      "+-------------------------------+-------+</pre>"
     ]
    },
    {
     "cell_type": "markdown",
     "metadata": {},
     "source": [
      "**Example 14. Finding the most popular retweets**"
     ]
    },
    {
     "cell_type": "code",
     "collapsed": false,
     "input": [
      "retweets = [\n",
      "            # Store out a tuple of these three values ...\n",
      "            (status['retweet_count'], \n",
      "             status['retweeted_status']['user']['screen_name'],\n",
      "             status['text']) \n",
      "            \n",
      "            # ... for each status ...\n",
      "            for status in statuses \n",
      "            \n",
      "            # ... so long as the status meets this condition.\n",
      "                if status.has_key('retweeted_status')\n",
      "           ]\n",
      "\n",
      "# Slice off the first 5 from the sorted results and display each item in the tuple\n",
      "pt = PrettyTable(field_names=['Count', 'Screen Name', 'Text'])\n",
      "[ pt.add_row(row) for row in sorted(retweets, reverse=True)[:5] ]\n",
      "pt.max_width['Text'] = 50\n",
      "pt.align= 'l'\n",
      "print pt"
     ],
     "language": "python",
     "metadata": {},
     "outputs": []
    },
    {
     "cell_type": "markdown",
     "metadata": {},
     "source": [
      "**Example 15. Sample results from Finding the most popular retweets**"
     ]
    },
    {
     "cell_type": "markdown",
     "metadata": {},
     "source": [
      "<pre>+-------+----------------+----------------------------------------------------+\n",
      "| Count | Screen Name    | Text                                               |\n",
      "+-------+----------------+----------------------------------------------------+\n",
      "| 23    | hassanmusician | RT @hassanmusician: #MentionSomeoneImportantForYou |\n",
      "|       |                | God.                                               |\n",
      "| 21    | HSweethearts   | RT @HSweethearts: #MentionSomeoneImportantForYou   |\n",
      "|       |                | my high school sweetheart \u2764\ud83d\udc8b                      |\n",
      "| 15    | LosAlejandro_  | RT @LosAlejandro_: \u00bfNadie te menciono en           |\n",
      "|       |                | \"#MentionSomeoneImportantForYou\"? JAJAJAJAJAJAJAJA |\n",
      "|       |                | JAJAJAJAJAJAJAJAJAJAJAJAJAJAJAJAJAJAJAJA Ven, ...  |\n",
      "| 9     | SCOTTSUMME     | RT @SCOTTSUMME: #MentionSomeoneImportantForYou My  |\n",
      "|       |                | Mum. Shes loving, caring, strong, all in one. I    |\n",
      "|       |                | love her so much \u2764\u2764\u2764\u2764                              |\n",
      "| 7     | degrassihaha   | RT @degrassihaha: #MentionSomeoneImportantForYou I |\n",
      "|       |                | can't put every Degrassi cast member, crew member, |\n",
      "|       |                | and writer in just one tweet....                   |\n",
      "+-------+----------------+----------------------------------------------------+</pre>"
     ]
    },
    {
     "cell_type": "markdown",
     "metadata": {},
     "source": [
      "**Example 16. Looking up users who have retweeted a status**"
     ]
    },
    {
     "cell_type": "code",
     "collapsed": false,
     "input": [
      "# Get the original tweet id for a tweet from its retweeted_status node \n",
      "_retweets = twitter_api.statuses.retweets(id=316944833233186816)\n",
      "[r['user']['screen_name'] for r in _retweets]"
     ],
     "language": "python",
     "metadata": {},
     "outputs": []
    },
    {
     "cell_type": "markdown",
     "metadata": {},
     "source": [
      "**Example 17. Plotting frequencies of words**"
     ]
    },
    {
     "cell_type": "code",
     "collapsed": false,
     "input": [
      "import matplotlib.pylab as plt\n",
      "\n",
      "word_counts = sorted(Counter(words).values(), reverse=True)\n",
      "\n",
      "# Construct a figure and add a subplot and its data\n",
      "fig = figure()\n",
      "ax = fig.add_subplot(2,1,1) #2x1 grid, 1st subplot in the fig\n",
      "ax.plot(word_counts)\n",
      "\n",
      "# Format the plot\n",
      "ax.set_xscale('log')\n",
      "ax.set_yscale('log')\n",
      "ax.set_xticklabels(\"\")\n",
      "ax.set_ylabel(\"freq\")"
     ],
     "language": "python",
     "metadata": {},
     "outputs": []
    },
    {
     "cell_type": "markdown",
     "metadata": {},
     "source": [
      "**Example 18. Generating histograms of words, screen names, and hashtags**"
     ]
    },
    {
     "cell_type": "code",
     "collapsed": false,
     "input": [
      "for label, data in (('Words', words), \n",
      "                    ('Screen Names', screen_names), \n",
      "                    ('Hashtags', hashtags)):\n",
      "\n",
      "    # Build a frequency map for each set of data\n",
      "    # and plot the values\n",
      "    c = Counter(data)\n",
      "    plt.hist(c.values())\n",
      "    \n",
      "    # Add a title and display as a new figure\n",
      "    plt.title(label)\n",
      "    plt.figure()"
     ],
     "language": "python",
     "metadata": {},
     "outputs": []
    },
    {
     "cell_type": "markdown",
     "metadata": {},
     "source": [
      "**Example 19. Generating a histogram of retweet counts**"
     ]
    },
    {
     "cell_type": "code",
     "collapsed": false,
     "input": [
      "# Using underscores while unpacking values in\n",
      "# a tuple is idiomatic for discarding them\n",
      "counts = [count for count, _, _ in retweets]\n",
      "plt.hist(counts)\n",
      "print counts\n",
      "plt.title(\"Retweets\")\n",
      "plt.figure()"
     ],
     "language": "python",
     "metadata": {},
     "outputs": []
    }
   ],
   "metadata": {}
  }
 ]
}
